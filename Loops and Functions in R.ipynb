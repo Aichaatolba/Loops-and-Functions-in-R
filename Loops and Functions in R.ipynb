{
 "cells": [
  {
   "cell_type": "markdown",
   "metadata": {},
   "source": [
    "Before diving into  Loops and functions in R , we should first Review the logical operators in R , which are of extreme importance when working particularly with R."
   ]
  },
  {
   "cell_type": "code",
   "execution_count": 21,
   "metadata": {},
   "outputs": [
    {
     "data": {
      "text/html": [
       "TRUE"
      ],
      "text/latex": [
       "TRUE"
      ],
      "text/markdown": [
       "TRUE"
      ],
      "text/plain": [
       "[1] TRUE"
      ]
     },
     "metadata": {},
     "output_type": "display_data"
    },
    {
     "data": {
      "text/html": [
       "TRUE"
      ],
      "text/latex": [
       "TRUE"
      ],
      "text/markdown": [
       "TRUE"
      ],
      "text/plain": [
       "[1] TRUE"
      ]
     },
     "metadata": {},
     "output_type": "display_data"
    },
    {
     "data": {
      "text/html": [
       "FALSE"
      ],
      "text/latex": [
       "FALSE"
      ],
      "text/markdown": [
       "FALSE"
      ],
      "text/plain": [
       "[1] FALSE"
      ]
     },
     "metadata": {},
     "output_type": "display_data"
    },
    {
     "data": {
      "text/html": [
       "FALSE"
      ],
      "text/latex": [
       "FALSE"
      ],
      "text/markdown": [
       "FALSE"
      ],
      "text/plain": [
       "[1] FALSE"
      ]
     },
     "metadata": {},
     "output_type": "display_data"
    },
    {
     "data": {
      "text/html": [
       "TRUE"
      ],
      "text/latex": [
       "TRUE"
      ],
      "text/markdown": [
       "TRUE"
      ],
      "text/plain": [
       "[1] TRUE"
      ]
     },
     "metadata": {},
     "output_type": "display_data"
    },
    {
     "data": {
      "text/html": [
       "TRUE"
      ],
      "text/latex": [
       "TRUE"
      ],
      "text/markdown": [
       "TRUE"
      ],
      "text/plain": [
       "[1] TRUE"
      ]
     },
     "metadata": {},
     "output_type": "display_data"
    },
    {
     "data": {
      "text/html": [
       "<table>\n",
       "<caption>A data.frame: 6 × 4</caption>\n",
       "<thead>\n",
       "\t<tr><th></th><th scope=col>Murder</th><th scope=col>Assault</th><th scope=col>UrbanPop</th><th scope=col>Rape</th></tr>\n",
       "\t<tr><th></th><th scope=col>&lt;dbl&gt;</th><th scope=col>&lt;int&gt;</th><th scope=col>&lt;int&gt;</th><th scope=col>&lt;dbl&gt;</th></tr>\n",
       "</thead>\n",
       "<tbody>\n",
       "\t<tr><th scope=row>Alabama</th><td>13.2</td><td>236</td><td>58</td><td>21.2</td></tr>\n",
       "\t<tr><th scope=row>Alaska</th><td>10.0</td><td>263</td><td>48</td><td>44.5</td></tr>\n",
       "\t<tr><th scope=row>Arizona</th><td> 8.1</td><td>294</td><td>80</td><td>31.0</td></tr>\n",
       "\t<tr><th scope=row>Arkansas</th><td> 8.8</td><td>190</td><td>50</td><td>19.5</td></tr>\n",
       "\t<tr><th scope=row>California</th><td> 9.0</td><td>276</td><td>91</td><td>40.6</td></tr>\n",
       "\t<tr><th scope=row>Colorado</th><td> 7.9</td><td>204</td><td>78</td><td>38.7</td></tr>\n",
       "</tbody>\n",
       "</table>\n"
      ],
      "text/latex": [
       "A data.frame: 6 × 4\n",
       "\\begin{tabular}{r|llll}\n",
       "  & Murder & Assault & UrbanPop & Rape\\\\\n",
       "  & <dbl> & <int> & <int> & <dbl>\\\\\n",
       "\\hline\n",
       "\tAlabama & 13.2 & 236 & 58 & 21.2\\\\\n",
       "\tAlaska & 10.0 & 263 & 48 & 44.5\\\\\n",
       "\tArizona &  8.1 & 294 & 80 & 31.0\\\\\n",
       "\tArkansas &  8.8 & 190 & 50 & 19.5\\\\\n",
       "\tCalifornia &  9.0 & 276 & 91 & 40.6\\\\\n",
       "\tColorado &  7.9 & 204 & 78 & 38.7\\\\\n",
       "\\end{tabular}\n"
      ],
      "text/markdown": [
       "\n",
       "A data.frame: 6 × 4\n",
       "\n",
       "| <!--/--> | Murder &lt;dbl&gt; | Assault &lt;int&gt; | UrbanPop &lt;int&gt; | Rape &lt;dbl&gt; |\n",
       "|---|---|---|---|---|\n",
       "| Alabama | 13.2 | 236 | 58 | 21.2 |\n",
       "| Alaska | 10.0 | 263 | 48 | 44.5 |\n",
       "| Arizona |  8.1 | 294 | 80 | 31.0 |\n",
       "| Arkansas |  8.8 | 190 | 50 | 19.5 |\n",
       "| California |  9.0 | 276 | 91 | 40.6 |\n",
       "| Colorado |  7.9 | 204 | 78 | 38.7 |\n",
       "\n"
      ],
      "text/plain": [
       "           Murder Assault UrbanPop Rape\n",
       "Alabama    13.2   236     58       21.2\n",
       "Alaska     10.0   263     48       44.5\n",
       "Arizona     8.1   294     80       31.0\n",
       "Arkansas    8.8   190     50       19.5\n",
       "California  9.0   276     91       40.6\n",
       "Colorado    7.9   204     78       38.7"
      ]
     },
     "metadata": {},
     "output_type": "display_data"
    },
    {
     "data": {
      "text/html": [
       "<table>\n",
       "<caption>A data.frame: 13 × 4</caption>\n",
       "<thead>\n",
       "\t<tr><th></th><th scope=col>Murder</th><th scope=col>Assault</th><th scope=col>UrbanPop</th><th scope=col>Rape</th></tr>\n",
       "\t<tr><th></th><th scope=col>&lt;dbl&gt;</th><th scope=col>&lt;int&gt;</th><th scope=col>&lt;int&gt;</th><th scope=col>&lt;dbl&gt;</th></tr>\n",
       "</thead>\n",
       "<tbody>\n",
       "\t<tr><th scope=row>Alabama</th><td>13.2</td><td>236</td><td>58</td><td>21.2</td></tr>\n",
       "\t<tr><th scope=row>Florida</th><td>15.4</td><td>335</td><td>80</td><td>31.9</td></tr>\n",
       "\t<tr><th scope=row>Georgia</th><td>17.4</td><td>211</td><td>60</td><td>25.8</td></tr>\n",
       "\t<tr><th scope=row>Illinois</th><td>10.4</td><td>249</td><td>83</td><td>24.0</td></tr>\n",
       "\t<tr><th scope=row>Louisiana</th><td>15.4</td><td>249</td><td>66</td><td>22.2</td></tr>\n",
       "\t<tr><th scope=row>Maryland</th><td>11.3</td><td>300</td><td>67</td><td>27.8</td></tr>\n",
       "\t<tr><th scope=row>Michigan</th><td>12.1</td><td>255</td><td>74</td><td>35.1</td></tr>\n",
       "\t<tr><th scope=row>Nevada</th><td>12.2</td><td>252</td><td>81</td><td>46.0</td></tr>\n",
       "\t<tr><th scope=row>New Mexico</th><td>11.4</td><td>285</td><td>70</td><td>32.1</td></tr>\n",
       "\t<tr><th scope=row>New York</th><td>11.1</td><td>254</td><td>86</td><td>26.1</td></tr>\n",
       "\t<tr><th scope=row>South Carolina</th><td>14.4</td><td>279</td><td>48</td><td>22.5</td></tr>\n",
       "\t<tr><th scope=row>Tennessee</th><td>13.2</td><td>188</td><td>59</td><td>26.9</td></tr>\n",
       "\t<tr><th scope=row>Texas</th><td>12.7</td><td>201</td><td>80</td><td>25.5</td></tr>\n",
       "</tbody>\n",
       "</table>\n"
      ],
      "text/latex": [
       "A data.frame: 13 × 4\n",
       "\\begin{tabular}{r|llll}\n",
       "  & Murder & Assault & UrbanPop & Rape\\\\\n",
       "  & <dbl> & <int> & <int> & <dbl>\\\\\n",
       "\\hline\n",
       "\tAlabama & 13.2 & 236 & 58 & 21.2\\\\\n",
       "\tFlorida & 15.4 & 335 & 80 & 31.9\\\\\n",
       "\tGeorgia & 17.4 & 211 & 60 & 25.8\\\\\n",
       "\tIllinois & 10.4 & 249 & 83 & 24.0\\\\\n",
       "\tLouisiana & 15.4 & 249 & 66 & 22.2\\\\\n",
       "\tMaryland & 11.3 & 300 & 67 & 27.8\\\\\n",
       "\tMichigan & 12.1 & 255 & 74 & 35.1\\\\\n",
       "\tNevada & 12.2 & 252 & 81 & 46.0\\\\\n",
       "\tNew Mexico & 11.4 & 285 & 70 & 32.1\\\\\n",
       "\tNew York & 11.1 & 254 & 86 & 26.1\\\\\n",
       "\tSouth Carolina & 14.4 & 279 & 48 & 22.5\\\\\n",
       "\tTennessee & 13.2 & 188 & 59 & 26.9\\\\\n",
       "\tTexas & 12.7 & 201 & 80 & 25.5\\\\\n",
       "\\end{tabular}\n"
      ],
      "text/markdown": [
       "\n",
       "A data.frame: 13 × 4\n",
       "\n",
       "| <!--/--> | Murder &lt;dbl&gt; | Assault &lt;int&gt; | UrbanPop &lt;int&gt; | Rape &lt;dbl&gt; |\n",
       "|---|---|---|---|---|\n",
       "| Alabama | 13.2 | 236 | 58 | 21.2 |\n",
       "| Florida | 15.4 | 335 | 80 | 31.9 |\n",
       "| Georgia | 17.4 | 211 | 60 | 25.8 |\n",
       "| Illinois | 10.4 | 249 | 83 | 24.0 |\n",
       "| Louisiana | 15.4 | 249 | 66 | 22.2 |\n",
       "| Maryland | 11.3 | 300 | 67 | 27.8 |\n",
       "| Michigan | 12.1 | 255 | 74 | 35.1 |\n",
       "| Nevada | 12.2 | 252 | 81 | 46.0 |\n",
       "| New Mexico | 11.4 | 285 | 70 | 32.1 |\n",
       "| New York | 11.1 | 254 | 86 | 26.1 |\n",
       "| South Carolina | 14.4 | 279 | 48 | 22.5 |\n",
       "| Tennessee | 13.2 | 188 | 59 | 26.9 |\n",
       "| Texas | 12.7 | 201 | 80 | 25.5 |\n",
       "\n"
      ],
      "text/plain": [
       "               Murder Assault UrbanPop Rape\n",
       "Alabama        13.2   236     58       21.2\n",
       "Florida        15.4   335     80       31.9\n",
       "Georgia        17.4   211     60       25.8\n",
       "Illinois       10.4   249     83       24.0\n",
       "Louisiana      15.4   249     66       22.2\n",
       "Maryland       11.3   300     67       27.8\n",
       "Michigan       12.1   255     74       35.1\n",
       "Nevada         12.2   252     81       46.0\n",
       "New Mexico     11.4   285     70       32.1\n",
       "New York       11.1   254     86       26.1\n",
       "South Carolina 14.4   279     48       22.5\n",
       "Tennessee      13.2   188     59       26.9\n",
       "Texas          12.7   201     80       25.5"
      ]
     },
     "metadata": {},
     "output_type": "display_data"
    },
    {
     "data": {
      "text/html": [
       "<table>\n",
       "<caption>A data.frame: 27 × 4</caption>\n",
       "<thead>\n",
       "\t<tr><th></th><th scope=col>Murder</th><th scope=col>Assault</th><th scope=col>UrbanPop</th><th scope=col>Rape</th></tr>\n",
       "\t<tr><th></th><th scope=col>&lt;dbl&gt;</th><th scope=col>&lt;int&gt;</th><th scope=col>&lt;int&gt;</th><th scope=col>&lt;dbl&gt;</th></tr>\n",
       "</thead>\n",
       "<tbody>\n",
       "\t<tr><th scope=row>Alabama</th><td>13.2</td><td>236</td><td>58</td><td>21.2</td></tr>\n",
       "\t<tr><th scope=row>Alaska</th><td>10.0</td><td>263</td><td>48</td><td>44.5</td></tr>\n",
       "\t<tr><th scope=row>Arizona</th><td> 8.1</td><td>294</td><td>80</td><td>31.0</td></tr>\n",
       "\t<tr><th scope=row>California</th><td> 9.0</td><td>276</td><td>91</td><td>40.6</td></tr>\n",
       "\t<tr><th scope=row>Colorado</th><td> 7.9</td><td>204</td><td>78</td><td>38.7</td></tr>\n",
       "\t<tr><th scope=row>Florida</th><td>15.4</td><td>335</td><td>80</td><td>31.9</td></tr>\n",
       "\t<tr><th scope=row>Georgia</th><td>17.4</td><td>211</td><td>60</td><td>25.8</td></tr>\n",
       "\t<tr><th scope=row>Hawaii</th><td> 5.3</td><td> 46</td><td>83</td><td>20.2</td></tr>\n",
       "\t<tr><th scope=row>Illinois</th><td>10.4</td><td>249</td><td>83</td><td>24.0</td></tr>\n",
       "\t<tr><th scope=row>Indiana</th><td> 7.2</td><td>113</td><td>65</td><td>21.0</td></tr>\n",
       "\t<tr><th scope=row>Louisiana</th><td>15.4</td><td>249</td><td>66</td><td>22.2</td></tr>\n",
       "\t<tr><th scope=row>Maryland</th><td>11.3</td><td>300</td><td>67</td><td>27.8</td></tr>\n",
       "\t<tr><th scope=row>Michigan</th><td>12.1</td><td>255</td><td>74</td><td>35.1</td></tr>\n",
       "\t<tr><th scope=row>Mississippi</th><td>16.1</td><td>259</td><td>44</td><td>17.1</td></tr>\n",
       "\t<tr><th scope=row>Missouri</th><td> 9.0</td><td>178</td><td>70</td><td>28.2</td></tr>\n",
       "\t<tr><th scope=row>Nevada</th><td>12.2</td><td>252</td><td>81</td><td>46.0</td></tr>\n",
       "\t<tr><th scope=row>New Mexico</th><td>11.4</td><td>285</td><td>70</td><td>32.1</td></tr>\n",
       "\t<tr><th scope=row>New York</th><td>11.1</td><td>254</td><td>86</td><td>26.1</td></tr>\n",
       "\t<tr><th scope=row>North Carolina</th><td>13.0</td><td>337</td><td>45</td><td>16.1</td></tr>\n",
       "\t<tr><th scope=row>Ohio</th><td> 7.3</td><td>120</td><td>75</td><td>21.4</td></tr>\n",
       "\t<tr><th scope=row>Oregon</th><td> 4.9</td><td>159</td><td>67</td><td>29.3</td></tr>\n",
       "\t<tr><th scope=row>South Carolina</th><td>14.4</td><td>279</td><td>48</td><td>22.5</td></tr>\n",
       "\t<tr><th scope=row>Tennessee</th><td>13.2</td><td>188</td><td>59</td><td>26.9</td></tr>\n",
       "\t<tr><th scope=row>Texas</th><td>12.7</td><td>201</td><td>80</td><td>25.5</td></tr>\n",
       "\t<tr><th scope=row>Utah</th><td> 3.2</td><td>120</td><td>80</td><td>22.9</td></tr>\n",
       "\t<tr><th scope=row>Virginia</th><td> 8.5</td><td>156</td><td>63</td><td>20.7</td></tr>\n",
       "\t<tr><th scope=row>Washington</th><td> 4.0</td><td>145</td><td>73</td><td>26.2</td></tr>\n",
       "</tbody>\n",
       "</table>\n"
      ],
      "text/latex": [
       "A data.frame: 27 × 4\n",
       "\\begin{tabular}{r|llll}\n",
       "  & Murder & Assault & UrbanPop & Rape\\\\\n",
       "  & <dbl> & <int> & <int> & <dbl>\\\\\n",
       "\\hline\n",
       "\tAlabama & 13.2 & 236 & 58 & 21.2\\\\\n",
       "\tAlaska & 10.0 & 263 & 48 & 44.5\\\\\n",
       "\tArizona &  8.1 & 294 & 80 & 31.0\\\\\n",
       "\tCalifornia &  9.0 & 276 & 91 & 40.6\\\\\n",
       "\tColorado &  7.9 & 204 & 78 & 38.7\\\\\n",
       "\tFlorida & 15.4 & 335 & 80 & 31.9\\\\\n",
       "\tGeorgia & 17.4 & 211 & 60 & 25.8\\\\\n",
       "\tHawaii &  5.3 &  46 & 83 & 20.2\\\\\n",
       "\tIllinois & 10.4 & 249 & 83 & 24.0\\\\\n",
       "\tIndiana &  7.2 & 113 & 65 & 21.0\\\\\n",
       "\tLouisiana & 15.4 & 249 & 66 & 22.2\\\\\n",
       "\tMaryland & 11.3 & 300 & 67 & 27.8\\\\\n",
       "\tMichigan & 12.1 & 255 & 74 & 35.1\\\\\n",
       "\tMississippi & 16.1 & 259 & 44 & 17.1\\\\\n",
       "\tMissouri &  9.0 & 178 & 70 & 28.2\\\\\n",
       "\tNevada & 12.2 & 252 & 81 & 46.0\\\\\n",
       "\tNew Mexico & 11.4 & 285 & 70 & 32.1\\\\\n",
       "\tNew York & 11.1 & 254 & 86 & 26.1\\\\\n",
       "\tNorth Carolina & 13.0 & 337 & 45 & 16.1\\\\\n",
       "\tOhio &  7.3 & 120 & 75 & 21.4\\\\\n",
       "\tOregon &  4.9 & 159 & 67 & 29.3\\\\\n",
       "\tSouth Carolina & 14.4 & 279 & 48 & 22.5\\\\\n",
       "\tTennessee & 13.2 & 188 & 59 & 26.9\\\\\n",
       "\tTexas & 12.7 & 201 & 80 & 25.5\\\\\n",
       "\tUtah &  3.2 & 120 & 80 & 22.9\\\\\n",
       "\tVirginia &  8.5 & 156 & 63 & 20.7\\\\\n",
       "\tWashington &  4.0 & 145 & 73 & 26.2\\\\\n",
       "\\end{tabular}\n"
      ],
      "text/markdown": [
       "\n",
       "A data.frame: 27 × 4\n",
       "\n",
       "| <!--/--> | Murder &lt;dbl&gt; | Assault &lt;int&gt; | UrbanPop &lt;int&gt; | Rape &lt;dbl&gt; |\n",
       "|---|---|---|---|---|\n",
       "| Alabama | 13.2 | 236 | 58 | 21.2 |\n",
       "| Alaska | 10.0 | 263 | 48 | 44.5 |\n",
       "| Arizona |  8.1 | 294 | 80 | 31.0 |\n",
       "| California |  9.0 | 276 | 91 | 40.6 |\n",
       "| Colorado |  7.9 | 204 | 78 | 38.7 |\n",
       "| Florida | 15.4 | 335 | 80 | 31.9 |\n",
       "| Georgia | 17.4 | 211 | 60 | 25.8 |\n",
       "| Hawaii |  5.3 |  46 | 83 | 20.2 |\n",
       "| Illinois | 10.4 | 249 | 83 | 24.0 |\n",
       "| Indiana |  7.2 | 113 | 65 | 21.0 |\n",
       "| Louisiana | 15.4 | 249 | 66 | 22.2 |\n",
       "| Maryland | 11.3 | 300 | 67 | 27.8 |\n",
       "| Michigan | 12.1 | 255 | 74 | 35.1 |\n",
       "| Mississippi | 16.1 | 259 | 44 | 17.1 |\n",
       "| Missouri |  9.0 | 178 | 70 | 28.2 |\n",
       "| Nevada | 12.2 | 252 | 81 | 46.0 |\n",
       "| New Mexico | 11.4 | 285 | 70 | 32.1 |\n",
       "| New York | 11.1 | 254 | 86 | 26.1 |\n",
       "| North Carolina | 13.0 | 337 | 45 | 16.1 |\n",
       "| Ohio |  7.3 | 120 | 75 | 21.4 |\n",
       "| Oregon |  4.9 | 159 | 67 | 29.3 |\n",
       "| South Carolina | 14.4 | 279 | 48 | 22.5 |\n",
       "| Tennessee | 13.2 | 188 | 59 | 26.9 |\n",
       "| Texas | 12.7 | 201 | 80 | 25.5 |\n",
       "| Utah |  3.2 | 120 | 80 | 22.9 |\n",
       "| Virginia |  8.5 | 156 | 63 | 20.7 |\n",
       "| Washington |  4.0 | 145 | 73 | 26.2 |\n",
       "\n"
      ],
      "text/plain": [
       "               Murder Assault UrbanPop Rape\n",
       "Alabama        13.2   236     58       21.2\n",
       "Alaska         10.0   263     48       44.5\n",
       "Arizona         8.1   294     80       31.0\n",
       "California      9.0   276     91       40.6\n",
       "Colorado        7.9   204     78       38.7\n",
       "Florida        15.4   335     80       31.9\n",
       "Georgia        17.4   211     60       25.8\n",
       "Hawaii          5.3    46     83       20.2\n",
       "Illinois       10.4   249     83       24.0\n",
       "Indiana         7.2   113     65       21.0\n",
       "Louisiana      15.4   249     66       22.2\n",
       "Maryland       11.3   300     67       27.8\n",
       "Michigan       12.1   255     74       35.1\n",
       "Mississippi    16.1   259     44       17.1\n",
       "Missouri        9.0   178     70       28.2\n",
       "Nevada         12.2   252     81       46.0\n",
       "New Mexico     11.4   285     70       32.1\n",
       "New York       11.1   254     86       26.1\n",
       "North Carolina 13.0   337     45       16.1\n",
       "Ohio            7.3   120     75       21.4\n",
       "Oregon          4.9   159     67       29.3\n",
       "South Carolina 14.4   279     48       22.5\n",
       "Tennessee      13.2   188     59       26.9\n",
       "Texas          12.7   201     80       25.5\n",
       "Utah            3.2   120     80       22.9\n",
       "Virginia        8.5   156     63       20.7\n",
       "Washington      4.0   145     73       26.2"
      ]
     },
     "metadata": {},
     "output_type": "display_data"
    }
   ],
   "source": [
    "############################## Logical operators ################################################\n",
    "\n",
    "# & # And operator \n",
    "# | # Or operator \n",
    "# ! # Not \n",
    "\n",
    "# Logical operators will return TRUE if an operation is TRUE or a condition is Met. \n",
    "# EXAMPLES \n",
    "\n",
    "x <- 25\n",
    "x > 10\n",
    "x >= 25\n",
    "x < 20\n",
    "\n",
    "# AND operator \n",
    " x < 20 & x > 5 # is x lower than 20 AND higher than 5 \n",
    "\n",
    "# OR operator\n",
    "x < 20 | x > 5 # is x lower than 20 OR higher than 5 \n",
    "\n",
    "# NOT operator \n",
    "! (10 == 13 ) # not 10 is equal to 13 , TRUE will be returned because basically the statement is sayin 10 is not equal to 13 which is TRUE \n",
    "\n",
    "\n",
    "# working with a built-in dataset to illustrate that \n",
    "\n",
    "dataframe <- USArrests\n",
    "head(dataframe)\n",
    "# selecting the cities where the murder is > 10 AND Rape > 20 \n",
    "\n",
    "dataframe[(dataframe$Murder > 10) & (dataframe$Rape > 20) ,]\n",
    "\n",
    "# selecting the cities where the murder is > 10 OR Rape > 20 \n",
    "\n",
    "dataframe[(dataframe$Murder > 10) | (dataframe$Rape > 20) ,]\n"
   ]
  },
  {
   "cell_type": "markdown",
   "metadata": {},
   "source": [
    "######################## if  , else  & else if STATEMENTS ################################3\n",
    "\n",
    "# By definition if is a function that returs a certain value   if a condition is met and returns another value or statement if the condition is not met. \n",
    "\n",
    "# Structure of the function \n",
    "\n",
    "# if (x == 20){\n",
    "\n",
    "# the code to execute if the condition is met }\n",
    "\n",
    "# adding an else if  statement -- if the condition is not met , the result to be returned. \n",
    "\n",
    "# if not any of these conditions are met , ELSE will return a final result. \n",
    "\n"
   ]
  },
  {
   "cell_type": "code",
   "execution_count": 23,
   "metadata": {},
   "outputs": [
    {
     "name": "stdout",
     "output_type": "stream",
     "text": [
      "[1] \"x is not equal to 10 or 12\"\n"
     ]
    }
   ],
   "source": [
    "# Example 1\n",
    "x <- 20\n",
    "if (x == 10) {\n",
    "    print('x is equal to 10')\n",
    "} else if(x == 12){\n",
    "    print('x is equal to 12')\n",
    "}else{\n",
    "    print('x is not equal to 10 or 12')\n",
    "}"
   ]
  },
  {
   "cell_type": "code",
   "execution_count": 27,
   "metadata": {},
   "outputs": [
    {
     "name": "stdout",
     "output_type": "stream",
     "text": [
      "[1] \"the student did not pass the course\"\n"
     ]
    }
   ],
   "source": [
    "# Example 2 \n",
    "grade <-  6\n",
    "passing <- TRUE\n",
    "if (grade > 5){\n",
    "    print('the student did not pass the course')\n",
    "}else{\n",
    "    print('the student passed the course')\n",
    "}\n",
    "# try modifying the values of grade , so that the final decision and the code output will change accordingly."
   ]
  },
  {
   "cell_type": "code",
   "execution_count": 31,
   "metadata": {},
   "outputs": [],
   "source": [
    "# Example 3\n",
    "ham_sales <- 10\n",
    "cheese_sales <- 20\n",
    "report <- 'blank'\n",
    "if (ham_sales >= 10 & cheese_sales >= 20){\n",
    "    report <- \"strong sales of both ham and cheese\"\n",
    "}else if(ham_sales == 0 & cheese_sales == 0){\n",
    "    report <- \"No sales Today!\"\n",
    "}else{\n",
    "    report <- \"we sold something today\"\n",
    "}"
   ]
  },
  {
   "cell_type": "markdown",
   "metadata": {},
   "source": [
    "# While loops  are used to loop until a specific condition is met. "
   ]
  },
  {
   "cell_type": "code",
   "execution_count": 34,
   "metadata": {},
   "outputs": [
    {
     "name": "stdout",
     "output_type": "stream",
     "text": [
      "[1] \"x is :0\"\n",
      "[1] \"x is :2\"\n",
      "[1] \"x is :4\"\n",
      "[1] \"x is :6\"\n",
      "[1] \"x is :8\"\n",
      "[1] \"x is :10\"\n",
      "[1] \"x is :12\"\n",
      "[1] \"x is :14\"\n",
      "[1] \"x is :16\"\n",
      "[1] \"x is :18\"\n",
      "[1] \"x is now equal to 20\"\n"
     ]
    }
   ],
   "source": [
    "x <- 0 \n",
    "while(x < 20){\n",
    "    print(paste0('x is :' , x))\n",
    "    x <- x+2\n",
    "if(x==20){\n",
    "    print(\"x is now equal to 20\")\n",
    "     }\n",
    "}\n",
    "#once x is equal to 20 , the condition is no longer true  and so the loop will stop \n"
   ]
  },
  {
   "cell_type": "markdown",
   "metadata": {},
   "source": [
    "# For loops is used to repeat a specific block of code a known number of times. "
   ]
  },
  {
   "cell_type": "code",
   "execution_count": 36,
   "metadata": {},
   "outputs": [
    {
     "name": "stdout",
     "output_type": "stream",
     "text": [
      "[1] 1290\n",
      "[1] 9430\n",
      "[1] 2902\n",
      "[1] 3902\n"
     ]
    }
   ],
   "source": [
    "# for every element in an object execute some code. \n",
    "# let's create a vector \n",
    "salary <- c(1290,9430,2902,3902)\n",
    "for(temp.var in salary){\n",
    "    # execute some code for every element in that object\n",
    "    print(temp.var)\n",
    "}"
   ]
  },
  {
   "cell_type": "code",
   "execution_count": 37,
   "metadata": {},
   "outputs": [
    {
     "name": "stdout",
     "output_type": "stream",
     "text": [
      "[1] \"the salary is doubled and is now equal to : \"\n",
      "[1] 2580\n",
      "[1] \"the salary is doubled and is now equal to : \"\n",
      "[1] 18860\n",
      "[1] \"the salary is doubled and is now equal to : \"\n",
      "[1] 5804\n",
      "[1] \"the salary is doubled and is now equal to : \"\n",
      "[1] 7804\n"
     ]
    }
   ],
   "source": [
    "# Example 1 \n",
    "for(temp.var in salary){\n",
    "    result <- temp.var * 2 \n",
    "    print('the salary is doubled and is now equal to : ')\n",
    "    print(result)\n",
    "}"
   ]
  },
  {
   "cell_type": "code",
   "execution_count": 45,
   "metadata": {},
   "outputs": [
    {
     "name": "stdout",
     "output_type": "stream",
     "text": [
      "[1] 1\n",
      "[1] 2\n",
      "[1] 3\n",
      "[1] 4\n",
      "[1] 5\n",
      "[1] 6\n",
      "[1] 7\n",
      "[1] 8\n",
      "[1] 9\n",
      "[1] 10\n",
      "[1] 11\n",
      "[1] 12\n",
      "[1] 13\n",
      "[1] 14\n",
      "[1] 15\n",
      "[1] 16\n",
      "[1] 17\n",
      "[1] 18\n",
      "[1] 19\n",
      "[1] 20\n",
      "[1] \"The element at row 1 and col: 1 is 1\"\n",
      "[1] \"The element at row 1 and col: 2 is 5\"\n",
      "[1] \"The element at row 1 and col: 3 is 9\"\n",
      "[1] \"The element at row 1 and col: 4 is 13\"\n",
      "[1] \"The element at row 1 and col: 5 is 17\"\n",
      "[1] \"The element at row 2 and col: 1 is 2\"\n",
      "[1] \"The element at row 2 and col: 2 is 6\"\n",
      "[1] \"The element at row 2 and col: 3 is 10\"\n",
      "[1] \"The element at row 2 and col: 4 is 14\"\n",
      "[1] \"The element at row 2 and col: 5 is 18\"\n",
      "[1] \"The element at row 3 and col: 1 is 3\"\n",
      "[1] \"The element at row 3 and col: 2 is 7\"\n",
      "[1] \"The element at row 3 and col: 3 is 11\"\n",
      "[1] \"The element at row 3 and col: 4 is 15\"\n",
      "[1] \"The element at row 3 and col: 5 is 19\"\n",
      "[1] \"The element at row 4 and col: 1 is 4\"\n",
      "[1] \"The element at row 4 and col: 2 is 8\"\n",
      "[1] \"The element at row 4 and col: 3 is 12\"\n",
      "[1] \"The element at row 4 and col: 4 is 16\"\n",
      "[1] \"The element at row 4 and col: 5 is 20\"\n"
     ]
    }
   ],
   "source": [
    "# for loops within matrices \n",
    "matrix1 <- matrix(1:20 , nrow=4)\n",
    "for(i in matrix1){\n",
    "    print(i)\n",
    "}\n",
    "for (row in 1:nrow(matrix1)){\n",
    "    for(col in 1:ncol(matrix1)){\n",
    "        print(paste('The element at row', row, 'and col:' , col , 'is' , matrix1[row,col]))\n",
    "    }\n",
    "}"
   ]
  },
  {
   "cell_type": "code",
   "execution_count": 42,
   "metadata": {},
   "outputs": [
    {
     "name": "stdout",
     "output_type": "stream",
     "text": [
      "[1] 1290 9430 2902 3902\n",
      "     [,1] [,2] [,3] [,4] [,5]\n",
      "[1,]    1    5    9   13   17\n",
      "[2,]    2    6   10   14   18\n",
      "[3,]    3    7   11   15   19\n",
      "[4,]    4    8   12   16   20\n",
      "               Murder Assault UrbanPop Rape\n",
      "Alabama          13.2     236       58 21.2\n",
      "Alaska           10.0     263       48 44.5\n",
      "Arizona           8.1     294       80 31.0\n",
      "Arkansas          8.8     190       50 19.5\n",
      "California        9.0     276       91 40.6\n",
      "Colorado          7.9     204       78 38.7\n",
      "Connecticut       3.3     110       77 11.1\n",
      "Delaware          5.9     238       72 15.8\n",
      "Florida          15.4     335       80 31.9\n",
      "Georgia          17.4     211       60 25.8\n",
      "Hawaii            5.3      46       83 20.2\n",
      "Idaho             2.6     120       54 14.2\n",
      "Illinois         10.4     249       83 24.0\n",
      "Indiana           7.2     113       65 21.0\n",
      "Iowa              2.2      56       57 11.3\n",
      "Kansas            6.0     115       66 18.0\n",
      "Kentucky          9.7     109       52 16.3\n",
      "Louisiana        15.4     249       66 22.2\n",
      "Maine             2.1      83       51  7.8\n",
      "Maryland         11.3     300       67 27.8\n",
      "Massachusetts     4.4     149       85 16.3\n",
      "Michigan         12.1     255       74 35.1\n",
      "Minnesota         2.7      72       66 14.9\n",
      "Mississippi      16.1     259       44 17.1\n",
      "Missouri          9.0     178       70 28.2\n",
      "Montana           6.0     109       53 16.4\n",
      "Nebraska          4.3     102       62 16.5\n",
      "Nevada           12.2     252       81 46.0\n",
      "New Hampshire     2.1      57       56  9.5\n",
      "New Jersey        7.4     159       89 18.8\n",
      "New Mexico       11.4     285       70 32.1\n",
      "New York         11.1     254       86 26.1\n",
      "North Carolina   13.0     337       45 16.1\n",
      "North Dakota      0.8      45       44  7.3\n",
      "Ohio              7.3     120       75 21.4\n",
      "Oklahoma          6.6     151       68 20.0\n",
      "Oregon            4.9     159       67 29.3\n",
      "Pennsylvania      6.3     106       72 14.9\n",
      "Rhode Island      3.4     174       87  8.3\n",
      "South Carolina   14.4     279       48 22.5\n",
      "South Dakota      3.8      86       45 12.8\n",
      "Tennessee        13.2     188       59 26.9\n",
      "Texas            12.7     201       80 25.5\n",
      "Utah              3.2     120       80 22.9\n",
      "Vermont           2.2      48       32 11.2\n",
      "Virginia          8.5     156       63 20.7\n",
      "Washington        4.0     145       73 26.2\n",
      "West Virginia     5.7      81       39  9.3\n",
      "Wisconsin         2.6      53       66 10.8\n",
      "Wyoming           6.8     161       60 15.6\n"
     ]
    }
   ],
   "source": [
    "# loops within lists \n",
    "my_list <- list(salary , matrix1 , USArrests)\n",
    "for(item in my_list){\n",
    "    print(item)\n",
    "}"
   ]
  },
  {
   "cell_type": "markdown",
   "metadata": {},
   "source": [
    "# FUNCTIONS IN R "
   ]
  },
  {
   "cell_type": "code",
   "execution_count": null,
   "metadata": {},
   "outputs": [],
   "source": [
    "# Syntax of a function in R \n",
    "Name_of_function <- function(input1 , input2 , input3){\n",
    "    # code to be executed\n",
    "    result <- input1 + input2\n",
    "    return(result)\n",
    "} "
   ]
  },
  {
   "cell_type": "code",
   "execution_count": 48,
   "metadata": {},
   "outputs": [
    {
     "data": {
      "text/html": [
       "30"
      ],
      "text/latex": [
       "30"
      ],
      "text/markdown": [
       "30"
      ],
      "text/plain": [
       "[1] 30"
      ]
     },
     "metadata": {},
     "output_type": "display_data"
    }
   ],
   "source": [
    "# Example 1 \n",
    "multiplication_numbers <- function(number1 , number2){\n",
    "    return(number1 * number2)\n",
    "}\n",
    "multiplication_numbers(5 , 6)"
   ]
  },
  {
   "cell_type": "code",
   "execution_count": 49,
   "metadata": {},
   "outputs": [
    {
     "name": "stdout",
     "output_type": "stream",
     "text": [
      "[1] 132\n"
     ]
    }
   ],
   "source": [
    "#Example 2 \n",
    "summing <- function(number1 , number2){\n",
    "    summation <- number1 + number2\n",
    "    return(summation)\n",
    "}\n",
    "result <- summing(43 , 89)\n",
    "print(result)"
   ]
  },
  {
   "cell_type": "code",
   "execution_count": null,
   "metadata": {},
   "outputs": [],
   "source": []
  }
 ],
 "metadata": {
  "kernelspec": {
   "display_name": "R",
   "language": "R",
   "name": "ir"
  },
  "language_info": {
   "codemirror_mode": "r",
   "file_extension": ".r",
   "mimetype": "text/x-r-source",
   "name": "R",
   "pygments_lexer": "r",
   "version": "3.6.2"
  }
 },
 "nbformat": 4,
 "nbformat_minor": 2
}
